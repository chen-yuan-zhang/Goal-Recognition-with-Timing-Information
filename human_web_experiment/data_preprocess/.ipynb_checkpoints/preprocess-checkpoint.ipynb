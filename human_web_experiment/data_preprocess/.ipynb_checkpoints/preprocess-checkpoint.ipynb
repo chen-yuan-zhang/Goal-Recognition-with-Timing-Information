{
 "cells": [
  {
   "cell_type": "markdown",
   "metadata": {},
   "source": [
    "### clean the raw data \"sokoban.json\" and generate the transformed data \"transformed_data.json\""
   ]
  },
  {
   "cell_type": "code",
   "execution_count": 5,
   "metadata": {
    "scrolled": true
   },
   "outputs": [],
   "source": [
    "import json\n",
    "\n",
    "filename = 'sokoban.json'\n",
    "\n",
    "with open(filename) as f:\n",
    "    datas = json.load(f)\n",
    "\n",
    "output = [] # list to store transformed data\n",
    "eid = 0 \n",
    "code2key = {\n",
    "    '32': \"start\",\n",
    "    '37': \"left\",\n",
    "    '38': \"up\",\n",
    "    '39': \"right\",\n",
    "    '40': \"down\",\n",
    "    '82': \"reset\",\n",
    "    '78': \"giveup\",\n",
    "    '65': \"A\",\n",
    "    '66': \"B\"\n",
    "}\n",
    "\n",
    "for data in datas:\n",
    "    # each data block correspond to one participant\n",
    "    transformed_data = [] \n",
    "    for item in data['content'].strip().split('\\n'):\n",
    "        info = item.strip().split('\",\"')\n",
    "        \n",
    "        if info[3] == 'external-html-keyboard-response':\n",
    "            tmp = {} # tmp block for the instance\n",
    "\n",
    "            rts = [int(t) for t in info[0][1:].split(',')]\n",
    "            keys = [key for key in info[8].split(',')]\n",
    "            if len(info[9].split('_')) == 4: # instance_gr_json_r.html...\n",
    "                for index in range(len(keys)):\n",
    "                    if keys[index] == '66':\n",
    "                        keys[index] = '65'\n",
    "                    elif keys[index] == '65':\n",
    "                        keys[index] = '66'\n",
    "            tmp['responses'] = [(code2key[key], rt) for rt, key in zip(rts, keys)]\n",
    "            tmp['instance'] = info[9].split('=')[-1]\n",
    "\n",
    "            transformed_data.append(tmp)\n",
    "    \n",
    "    output.append({'id':eid,'data':transformed_data})\n",
    "    eid += 1 \n",
    "\n",
    "with open('transformed_data.json', 'w') as outfile:\n",
    "    json.dump(output, outfile)"
   ]
  }
 ],
 "metadata": {
  "kernelspec": {
   "display_name": "Python 3",
   "language": "python",
   "name": "python3"
  },
  "language_info": {
   "codemirror_mode": {
    "name": "ipython",
    "version": 3
   },
   "file_extension": ".py",
   "mimetype": "text/x-python",
   "name": "python",
   "nbconvert_exporter": "python",
   "pygments_lexer": "ipython3",
   "version": "3.8.10"
  }
 },
 "nbformat": 4,
 "nbformat_minor": 4
}
